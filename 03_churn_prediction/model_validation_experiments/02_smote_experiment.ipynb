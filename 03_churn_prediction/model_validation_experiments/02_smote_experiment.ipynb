{
 "cells": [
  {
   "cell_type": "markdown",
   "id": "54ad024b",
   "metadata": {},
   "source": [
    "# Advanced Modeling: SMOTE Experiment\n",
    "## SMOTE Oversampling vs Class Weight Comparison\n",
    "\n",
    "This notebook tests SMOTE (Synthetic Minority Oversampling Technique) as an \n",
    "alternative to class_weight for handling class imbalance in churn prediction.\n",
    "\n",
    "**Objective:** Determine if SMOTE can improve recall beyond our current \n",
    "57.84% (catching churners) without sacrificing too much precision.\n",
    "\n",
    "**Current Approach:** class_weight={0:1, 1:2} (2× penalty for missing churners)\n",
    "\n",
    "**SMOTE Approach:** Generate synthetic minority samples to balance classes\n",
    "\n",
    "**Key Question:** Does SMOTE help us catch more churners, or just create \n",
    "noise that hurts overall performance?"
   ]
  },
  {
   "cell_type": "markdown",
   "id": "b83ff39b",
   "metadata": {},
   "source": [
    "## 1. Import Libraries"
   ]
  },
  {
   "cell_type": "code",
   "execution_count": 3,
   "id": "51e8eb37",
   "metadata": {},
   "outputs": [
    {
     "name": "stdout",
     "output_type": "stream",
     "text": [
      "✓ Libraries loaded successfully\n"
     ]
    }
   ],
   "source": [
    "import numpy as np\n",
    "import pandas as pd\n",
    "import matplotlib.pyplot as plt\n",
    "import seaborn as sns\n",
    "import warnings\n",
    "import pickle\n",
    "from pathlib import Path\n",
    "from collections import Counter\n",
    "\n",
    "# Sklearn models and utilities\n",
    "from sklearn.ensemble import RandomForestClassifier\n",
    "from sklearn.metrics import (\n",
    "    accuracy_score, precision_score, recall_score, f1_score, \n",
    "    roc_auc_score, roc_curve, auc, confusion_matrix, classification_report\n",
    ")\n",
    "\n",
    "# SMOTE for oversampling\n",
    "from imblearn.over_sampling import SMOTE\n",
    "\n",
    "# Custom utilities\n",
    "from advanced_modeling_utils import (\n",
    "    load_preprocessed_data,\n",
    "    compare_models_results,\n",
    "    visualize_smote_impact,\n",
    "    save_experiment_results\n",
    ")\n",
    "\n",
    "# Settings\n",
    "sns.set_style('darkgrid')\n",
    "pd.set_option('display.max_columns', None)\n",
    "warnings.filterwarnings('ignore')\n",
    "\n",
    "print(\"✓ Libraries loaded successfully\")"
   ]
  },
  {
   "cell_type": "markdown",
   "id": "4c20451f",
   "metadata": {},
   "source": [
    "## 2. Load Preprocessed Data\n",
    "\n",
    "Use the utility function to load data with identical preprocessing as \n",
    "03_churn_prediction."
   ]
  },
  {
   "cell_type": "code",
   "execution_count": 4,
   "id": "c568ce6b",
   "metadata": {},
   "outputs": [
    {
     "name": "stdout",
     "output_type": "stream",
     "text": [
      "✓ Data loaded successfully\n",
      "\n",
      "Data Summary:\n",
      "  Train shape: (8000, 13)\n",
      "  Test shape: (2000, 13)\n",
      "  Features: 13\n",
      "  Train churn rate: 20.38%\n",
      "  Test churn rate: 20.40%\n"
     ]
    }
   ],
   "source": [
    "# Load data with consistent preprocessing\n",
    "X_train, X_test, y_train, y_test, feature_names = load_preprocessed_data()\n",
    "\n",
    "print(f\"✓ Data loaded successfully\")\n",
    "print(f\"\\nData Summary:\")\n",
    "print(f\"  Train shape: {X_train.shape}\")\n",
    "print(f\"  Test shape: {X_test.shape}\")\n",
    "print(f\"  Features: {len(feature_names)}\")\n",
    "print(f\"  Train churn rate: {y_train.mean():.2%}\")\n",
    "print(f\"  Test churn rate: {y_test.mean():.2%}\")"
   ]
  },
  {
   "cell_type": "markdown",
   "id": "7881a1be",
   "metadata": {},
   "source": [
    "## 3. Baseline: Random Forest with Class Weight\n",
    "\n",
    "Train Random Forest with class_weight (current approach from 03_churn_prediction).\n",
    "This is our baseline for comparison."
   ]
  },
  {
   "cell_type": "code",
   "execution_count": 5,
   "id": "04b6a193",
   "metadata": {},
   "outputs": [
    {
     "name": "stdout",
     "output_type": "stream",
     "text": [
      "================================================================================\n",
      "BASELINE: RANDOM FOREST WITH CLASS WEIGHT\n",
      "================================================================================\n",
      "\n",
      "🔨 Training Random Forest with class_weight...\n",
      "✓ Training complete\n",
      "\n",
      "📊 Class Weight Performance:\n",
      "  Accuracy:  0.8585 (85.85%)\n",
      "  Precision: 0.6801 (68.01%)\n",
      "  Recall:    0.5784 (57.84%)\n",
      "  F1-Score:  0.6252 (62.52%)\n",
      "  ROC-AUC:   0.8585 (85.85%)\n"
     ]
    }
   ],
   "source": [
    "print(\"=\"*80)\n",
    "print(\"BASELINE: RANDOM FOREST WITH CLASS WEIGHT\")\n",
    "print(\"=\"*80)\n",
    "\n",
    "rf_classweight = RandomForestClassifier(\n",
    "    n_estimators=900,\n",
    "    max_depth=11,\n",
    "    criterion='gini',\n",
    "    max_features=None,\n",
    "    min_samples_split=4,\n",
    "    min_samples_leaf=1,\n",
    "    class_weight={0:1, 1:2},  # Current approach\n",
    "    random_state=42,\n",
    "    n_jobs=-1\n",
    ")\n",
    "\n",
    "print(\"\\n🔨 Training Random Forest with class_weight...\")\n",
    "rf_classweight.fit(X_train, y_train)\n",
    "print(\"✓ Training complete\")\n",
    "\n",
    "# Evaluate\n",
    "rf_cw_pred = rf_classweight.predict(X_test)\n",
    "rf_cw_proba = rf_classweight.predict_proba(X_test)[:, 1]\n",
    "\n",
    "rf_cw_accuracy = accuracy_score(y_test, rf_cw_pred)\n",
    "rf_cw_precision = precision_score(y_test, rf_cw_pred)\n",
    "rf_cw_recall = recall_score(y_test, rf_cw_pred)\n",
    "rf_cw_f1 = f1_score(y_test, rf_cw_pred)\n",
    "rf_cw_roc = roc_auc_score(y_test, rf_cw_proba)\n",
    "\n",
    "print(f\"\\n📊 Class Weight Performance:\")\n",
    "print(f\"  Accuracy:  {rf_cw_accuracy:.4f} ({rf_cw_accuracy*100:.2f}%)\")\n",
    "print(f\"  Precision: {rf_cw_precision:.4f} ({rf_cw_precision*100:.2f}%)\")\n",
    "print(f\"  Recall:    {rf_cw_recall:.4f} ({rf_cw_recall*100:.2f}%)\")\n",
    "print(f\"  F1-Score:  {rf_cw_f1:.4f} ({rf_cw_f1*100:.2f}%)\")\n",
    "print(f\"  ROC-AUC:   {rf_cw_roc:.4f} ({rf_cw_roc*100:.2f}%)\")"
   ]
  },
  {
   "cell_type": "markdown",
   "id": "64d14427",
   "metadata": {},
   "source": [
    "## 4. Apply SMOTE to Training Data\n",
    "\n",
    "SMOTE creates synthetic samples of the minority class (churners) to balance \n",
    "the training set. Important: SMOTE is applied ONLY to training data, never \n",
    "to test data."
   ]
  },
  {
   "cell_type": "code",
   "execution_count": 6,
   "id": "92b8edc8",
   "metadata": {},
   "outputs": [
    {
     "name": "stdout",
     "output_type": "stream",
     "text": [
      "\n",
      "================================================================================\n",
      "APPLYING SMOTE TO TRAINING DATA\n",
      "================================================================================\n",
      "\n",
      "📊 Original Class Distribution:\n",
      "  Not Churn: 6370 (79.6%)\n",
      "  Churn:     1630 (20.4%)\n",
      "\n",
      "📊 After SMOTE Class Distribution:\n",
      "  Not Churn: 6370 (50.0%)\n",
      "  Churn:     6370 (50.0%)\n",
      "\n",
      "  Synthetic samples created: 4740\n"
     ]
    }
   ],
   "source": [
    "print(\"\\n\" + \"=\"*80)\n",
    "print(\"APPLYING SMOTE TO TRAINING DATA\")\n",
    "print(\"=\"*80)\n",
    "\n",
    "# Show original class distribution\n",
    "print(\"\\n📊 Original Class Distribution:\")\n",
    "print(f\"  Not Churn: {Counter(y_train)[0]} ({Counter(y_train)[0]/len(y_train)*100:.1f}%)\")\n",
    "print(f\"  Churn:     {Counter(y_train)[1]} ({Counter(y_train)[1]/len(y_train)*100:.1f}%)\")\n",
    "\n",
    "# Apply SMOTE\n",
    "smote = SMOTE(random_state=42)\n",
    "X_train_smote, y_train_smote = smote.fit_resample(X_train, y_train)\n",
    "\n",
    "print(\"\\n📊 After SMOTE Class Distribution:\")\n",
    "print(f\"  Not Churn: {Counter(y_train_smote)[0]} ({Counter(y_train_smote)[0]/len(y_train_smote)*100:.1f}%)\")\n",
    "print(f\"  Churn:     {Counter(y_train_smote)[1]} ({Counter(y_train_smote)[1]/len(y_train_smote)*100:.1f}%)\")\n",
    "print(f\"\\n  Synthetic samples created: {len(y_train_smote) - len(y_train)}\")"
   ]
  },
  {
   "cell_type": "markdown",
   "id": "57b0cdae",
   "metadata": {},
   "source": [
    "## 5. Visualize SMOTE Impact\n",
    "\n",
    "Visualize how SMOTE balances the class distribution."
   ]
  },
  {
   "cell_type": "code",
   "execution_count": 7,
   "id": "bee6ed4b",
   "metadata": {},
   "outputs": [
    {
     "data": {
      "image/png": "[encoded data removed]",
      "text/plain": [
       "<Figure size 1200x500 with 2 Axes>"
      ]
     },
     "metadata": {},
     "output_type": "display_data"
    }
   ],
   "source": [
    "# Visualize SMOTE impact\n",
    "visualize_smote_impact(y_train, y_train_smote)"
   ]
  },
  {
   "cell_type": "markdown",
   "id": "cd703ff3",
   "metadata": {},
   "source": [
    "## 6. Train Random Forest with SMOTE Data\n",
    "\n",
    "Train Random Forest on SMOTE-balanced data WITHOUT class_weight \n",
    "(since classes are now balanced)."
   ]
  },
  {
   "cell_type": "code",
   "execution_count": 8,
   "id": "56c19a69",
   "metadata": {},
   "outputs": [
    {
     "name": "stdout",
     "output_type": "stream",
     "text": [
      "\n",
      "================================================================================\n",
      "TRAINING: RANDOM FOREST WITH SMOTE DATA\n",
      "================================================================================\n",
      "\n",
      "🔨 Training Random Forest on SMOTE data...\n",
      "✓ Training complete\n",
      "\n",
      "📊 SMOTE Performance:\n",
      "  Accuracy:  0.8255 (82.55%)\n",
      "  Precision: 0.5618 (56.18%)\n",
      "  Recall:    0.6569 (65.69%)\n",
      "  F1-Score:  0.6056 (60.56%)\n",
      "  ROC-AUC:   0.8496 (84.96%)\n"
     ]
    }
   ],
   "source": [
    "print(\"\\n\" + \"=\"*80)\n",
    "print(\"TRAINING: RANDOM FOREST WITH SMOTE DATA\")\n",
    "print(\"=\"*80)\n",
    "\n",
    "rf_smote = RandomForestClassifier(\n",
    "    n_estimators=900,\n",
    "    max_depth=11,\n",
    "    criterion='gini',\n",
    "    max_features=None,\n",
    "    min_samples_split=4,\n",
    "    min_samples_leaf=1,\n",
    "    # No class_weight needed (SMOTE balanced the classes)\n",
    "    random_state=42,\n",
    "    n_jobs=-1\n",
    ")\n",
    "\n",
    "print(\"\\n🔨 Training Random Forest on SMOTE data...\")\n",
    "rf_smote.fit(X_train_smote, y_train_smote)\n",
    "print(\"✓ Training complete\")\n",
    "\n",
    "# Evaluate on ORIGINAL test set (SMOTE never touched test data)\n",
    "rf_smote_pred = rf_smote.predict(X_test)\n",
    "rf_smote_proba = rf_smote.predict_proba(X_test)[:, 1]\n",
    "\n",
    "rf_smote_accuracy = accuracy_score(y_test, rf_smote_pred)\n",
    "rf_smote_precision = precision_score(y_test, rf_smote_pred)\n",
    "rf_smote_recall = recall_score(y_test, rf_smote_pred)\n",
    "rf_smote_f1 = f1_score(y_test, rf_smote_pred)\n",
    "rf_smote_roc = roc_auc_score(y_test, rf_smote_proba)\n",
    "\n",
    "print(f\"\\n📊 SMOTE Performance:\")\n",
    "print(f\"  Accuracy:  {rf_smote_accuracy:.4f} ({rf_smote_accuracy*100:.2f}%)\")\n",
    "print(f\"  Precision: {rf_smote_precision:.4f} ({rf_smote_precision*100:.2f}%)\")\n",
    "print(f\"  Recall:    {rf_smote_recall:.4f} ({rf_smote_recall*100:.2f}%)\")\n",
    "print(f\"  F1-Score:  {rf_smote_f1:.4f} ({rf_smote_f1*100:.2f}%)\")\n",
    "print(f\"  ROC-AUC:   {rf_smote_roc:.4f} ({rf_smote_roc*100:.2f}%)\")"
   ]
  },
  {
   "cell_type": "markdown",
   "id": "dd08b988",
   "metadata": {},
   "source": [
    "## 7. Side-by-Side Comparison\n",
    "\n",
    "Compare class_weight vs SMOTE approaches."
   ]
  },
  {
   "cell_type": "code",
   "execution_count": 9,
   "id": "96a458d6",
   "metadata": {},
   "outputs": [
    {
     "name": "stdout",
     "output_type": "stream",
     "text": [
      "\n",
      "================================================================================\n",
      "SMOTE vs CLASS WEIGHT COMPARISON\n",
      "================================================================================\n",
      "\n",
      "\n",
      "       Model  Accuracy  Precision   Recall  F1-Score  ROC-AUC\n",
      "Class Weight    0.8585   0.680115 0.578431  0.625166 0.858506\n",
      "       SMOTE    0.8255   0.561845 0.656863  0.605650 0.849580\n"
     ]
    }
   ],
   "source": [
    "print(\"\\n\" + \"=\"*80)\n",
    "print(\"SMOTE vs CLASS WEIGHT COMPARISON\")\n",
    "print(\"=\"*80)\n",
    "\n",
    "comparison_results = {\n",
    "    'Class Weight': (rf_cw_pred, rf_cw_proba),\n",
    "    'SMOTE': (rf_smote_pred, rf_smote_proba)\n",
    "}\n",
    "\n",
    "comparison_df = compare_models_results(comparison_results, y_test)\n",
    "print(\"\\n\")\n",
    "print(comparison_df.to_string(index=False))"
   ]
  },
  {
   "cell_type": "markdown",
   "id": "b9ca6c1b",
   "metadata": {},
   "source": [
    "## 8. Confusion Matrix Comparison\n",
    "\n",
    "Visualize differences in confusion matrices."
   ]
  },
  {
   "cell_type": "code",
   "execution_count": 10,
   "id": "64242b5d",
   "metadata": {},
   "outputs": [
    {
     "data": {
      "image/png": "[encoded data removed]",
      "text/plain": [
       "<Figure size 1500x500 with 4 Axes>"
      ]
     },
     "metadata": {},
     "output_type": "display_data"
    }
   ],
   "source": [
    "# Create side-by-side confusion matrices\n",
    "fig, axes = plt.subplots(1, 2, figsize=(15, 5))\n",
    "\n",
    "for idx, (name, pred) in enumerate([('Class Weight', rf_cw_pred), ('SMOTE', rf_smote_pred)]):\n",
    "    cm = confusion_matrix(y_test, pred)\n",
    "    sns.heatmap(cm, annot=True, fmt='d', cmap='Blues', ax=axes[idx],\n",
    "               xticklabels=['Not Churn', 'Churn'],\n",
    "               yticklabels=['Not Churn', 'Churn'])\n",
    "    axes[idx].set_title(f'{name}')\n",
    "    axes[idx].set_xlabel('Predicted')\n",
    "    axes[idx].set_ylabel('Actual')\n",
    "\n",
    "plt.tight_layout()\n",
    "plt.show()"
   ]
  },
  {
   "cell_type": "markdown",
   "id": "4b97ea70",
   "metadata": {},
   "source": [
    "## 9. ROC Curve Comparison\n",
    "\n",
    "Compare ROC curves for both approaches."
   ]
  },
  {
   "cell_type": "code",
   "execution_count": 11,
   "id": "79296aa3",
   "metadata": {},
   "outputs": [
    {
     "data": {
      "image/png": "[encoded data removed]",
      "text/plain": [
       "<Figure size 800x600 with 1 Axes>"
      ]
     },
     "metadata": {},
     "output_type": "display_data"
    }
   ],
   "source": [
    "fig, ax = plt.subplots(figsize=(8, 6))\n",
    "\n",
    "for name, proba in [('Class Weight', rf_cw_proba), ('SMOTE', rf_smote_proba)]:\n",
    "    fpr, tpr, _ = roc_curve(y_test, proba)\n",
    "    roc_auc = auc(fpr, tpr)\n",
    "    ax.plot(fpr, tpr, label=f'{name} (AUC = {roc_auc:.3f})', linewidth=2)\n",
    "\n",
    "ax.plot([0, 1], [0, 1], 'k--', label='Random Classifier')\n",
    "ax.set_xlabel('False Positive Rate')\n",
    "ax.set_ylabel('True Positive Rate')\n",
    "ax.set_title('ROC Curves: Class Weight vs SMOTE')\n",
    "ax.legend(loc='lower right')\n",
    "ax.grid(alpha=0.3)\n",
    "plt.tight_layout()\n",
    "plt.show()"
   ]
  },
  {
   "cell_type": "markdown",
   "id": "431f246f",
   "metadata": {},
   "source": [
    "## 10. Detailed Metrics Comparison\n",
    "\n",
    "Break down the specific differences between approaches."
   ]
  },
  {
   "cell_type": "code",
   "execution_count": 12,
   "id": "cfde27e8",
   "metadata": {},
   "outputs": [
    {
     "name": "stdout",
     "output_type": "stream",
     "text": [
      "\n",
      "================================================================================\n",
      "DETAILED METRICS COMPARISON\n",
      "================================================================================\n",
      "\n",
      "\n",
      "    Approach  Accuracy  Precision   Recall  F1-Score   ROC-AUC\n",
      "Class Weight    0.8585   0.680115 0.578431  0.625166  0.858506\n",
      "       SMOTE    0.8255   0.561845 0.656863  0.605650  0.849580\n",
      "  Difference   -0.0330  -0.118270 0.078431 -0.019516 -0.008926\n"
     ]
    }
   ],
   "source": [
    "print(\"\\n\" + \"=\"*80)\n",
    "print(\"DETAILED METRICS COMPARISON\")\n",
    "print(\"=\"*80)\n",
    "\n",
    "metrics_comparison = pd.DataFrame({\n",
    "    'Approach': ['Class Weight', 'SMOTE', 'Difference'],\n",
    "    'Accuracy': [rf_cw_accuracy, rf_smote_accuracy, rf_smote_accuracy - rf_cw_accuracy],\n",
    "    'Precision': [rf_cw_precision, rf_smote_precision, rf_smote_precision - rf_cw_precision],\n",
    "    'Recall': [rf_cw_recall, rf_smote_recall, rf_smote_recall - rf_cw_recall],\n",
    "    'F1-Score': [rf_cw_f1, rf_smote_f1, rf_smote_f1 - rf_cw_f1],\n",
    "    'ROC-AUC': [rf_cw_roc, rf_smote_roc, rf_smote_roc - rf_cw_roc]\n",
    "})\n",
    "\n",
    "print(\"\\n\")\n",
    "print(metrics_comparison.to_string(index=False))"
   ]
  },
  {
   "cell_type": "markdown",
   "id": "3d555cd7",
   "metadata": {},
   "source": [
    "## 11. Business Impact Analysis\n",
    "\n",
    "Analyze the business implications of each approach."
   ]
  },
  {
   "cell_type": "code",
   "execution_count": 13,
   "id": "6a99ae63",
   "metadata": {},
   "outputs": [
    {
     "name": "stdout",
     "output_type": "stream",
     "text": [
      "\n",
      "================================================================================\n",
      "BUSINESS IMPACT ANALYSIS\n",
      "================================================================================\n",
      "\n",
      "📊 Confusion Matrix Breakdown:\n",
      "\n",
      "Class Weight Approach:\n",
      "  True Positives (Correctly identified churners):  236\n",
      "  False Positives (False alarms):                  111\n",
      "  False Negatives (Missed churners):              172\n",
      "  True Negatives (Correctly identified retainers): 1481\n",
      "\n",
      "SMOTE Approach:\n",
      "  True Positives (Correctly identified churners):  268\n",
      "  False Positives (False alarms):                  209\n",
      "  False Negatives (Missed churners):              140\n",
      "  True Negatives (Correctly identified retainers): 1383\n",
      "\n",
      "🔄 Differences (SMOTE - Class Weight):\n",
      "  Additional churners caught:     +32\n",
      "  Additional false alarms:         +98\n",
      "  Fewer missed churners:          -32\n"
     ]
    }
   ],
   "source": [
    "print(\"\\n\" + \"=\"*80)\n",
    "print(\"BUSINESS IMPACT ANALYSIS\")\n",
    "print(\"=\"*80)\n",
    "\n",
    "# Calculate confusion matrix values\n",
    "cw_cm = confusion_matrix(y_test, rf_cw_pred)\n",
    "smote_cm = confusion_matrix(y_test, rf_smote_pred)\n",
    "\n",
    "print(\"\\n📊 Confusion Matrix Breakdown:\")\n",
    "print(f\"\\nClass Weight Approach:\")\n",
    "print(f\"  True Positives (Correctly identified churners):  {cw_cm[1,1]}\")\n",
    "print(f\"  False Positives (False alarms):                  {cw_cm[0,1]}\")\n",
    "print(f\"  False Negatives (Missed churners):              {cw_cm[1,0]}\")\n",
    "print(f\"  True Negatives (Correctly identified retainers): {cw_cm[0,0]}\")\n",
    "\n",
    "print(f\"\\nSMOTE Approach:\")\n",
    "print(f\"  True Positives (Correctly identified churners):  {smote_cm[1,1]}\")\n",
    "print(f\"  False Positives (False alarms):                  {smote_cm[0,1]}\")\n",
    "print(f\"  False Negatives (Missed churners):              {smote_cm[1,0]}\")\n",
    "print(f\"  True Negatives (Correctly identified retainers): {smote_cm[0,0]}\")\n",
    "\n",
    "# Calculate differences\n",
    "tp_diff = smote_cm[1,1] - cw_cm[1,1]\n",
    "fp_diff = smote_cm[0,1] - cw_cm[0,1]\n",
    "fn_diff = smote_cm[1,0] - cw_cm[1,0]\n",
    "\n",
    "print(f\"\\n🔄 Differences (SMOTE - Class Weight):\")\n",
    "print(f\"  Additional churners caught:     {tp_diff:+d}\")\n",
    "print(f\"  Additional false alarms:         {fp_diff:+d}\")\n",
    "print(f\"  Fewer missed churners:          {fn_diff:+d}\")"
   ]
  },
  {
   "cell_type": "markdown",
   "id": "92a40187",
   "metadata": {},
   "source": [
    "## 12. Classification Reports\n",
    "\n",
    "Detailed per-class performance breakdown."
   ]
  },
  {
   "cell_type": "code",
   "execution_count": 14,
   "id": "7a8661cd",
   "metadata": {},
   "outputs": [
    {
     "name": "stdout",
     "output_type": "stream",
     "text": [
      "\n",
      "================================================================================\n",
      "CLASSIFICATION REPORTS\n",
      "================================================================================\n",
      "\n",
      "📋 Class Weight Approach:\n",
      "              precision    recall  f1-score   support\n",
      "\n",
      "   Not Churn       0.90      0.93      0.91      1592\n",
      "       Churn       0.68      0.58      0.63       408\n",
      "\n",
      "    accuracy                           0.86      2000\n",
      "   macro avg       0.79      0.75      0.77      2000\n",
      "weighted avg       0.85      0.86      0.85      2000\n",
      "\n",
      "\n",
      "📋 SMOTE Approach:\n",
      "              precision    recall  f1-score   support\n",
      "\n",
      "   Not Churn       0.91      0.87      0.89      1592\n",
      "       Churn       0.56      0.66      0.61       408\n",
      "\n",
      "    accuracy                           0.83      2000\n",
      "   macro avg       0.73      0.76      0.75      2000\n",
      "weighted avg       0.84      0.83      0.83      2000\n",
      "\n"
     ]
    }
   ],
   "source": [
    "print(\"\\n\" + \"=\"*80)\n",
    "print(\"CLASSIFICATION REPORTS\")\n",
    "print(\"=\"*80)\n",
    "\n",
    "print(\"\\n📋 Class Weight Approach:\")\n",
    "print(classification_report(y_test, rf_cw_pred, target_names=['Not Churn', 'Churn']))\n",
    "\n",
    "print(\"\\n📋 SMOTE Approach:\")\n",
    "print(classification_report(y_test, rf_smote_pred, target_names=['Not Churn', 'Churn']))"
   ]
  },
  {
   "cell_type": "markdown",
   "id": "48df2a27",
   "metadata": {},
   "source": [
    "## 13. Save Results\n",
    "\n",
    "Save experiment results for future reference."
   ]
  },
  {
   "cell_type": "code",
   "execution_count": 15,
   "id": "65d6a01a",
   "metadata": {},
   "outputs": [
    {
     "name": "stdout",
     "output_type": "stream",
     "text": [
      "✓ Results saved to results/smote_comparison_results.pkl\n"
     ]
    }
   ],
   "source": [
    "# Prepare results dictionary\n",
    "results = {\n",
    "    'models': {\n",
    "        'Class Weight': rf_classweight,\n",
    "        'SMOTE': rf_smote\n",
    "    },\n",
    "    'predictions': {\n",
    "        'Class Weight': rf_cw_pred,\n",
    "        'SMOTE': rf_smote_pred\n",
    "    },\n",
    "    'probabilities': {\n",
    "        'Class Weight': rf_cw_proba,\n",
    "        'SMOTE': rf_smote_proba\n",
    "    },\n",
    "    'metrics': comparison_df.to_dict('records'),\n",
    "    'smote_impact': {\n",
    "        'original_samples': len(y_train),\n",
    "        'after_smote_samples': len(y_train_smote),\n",
    "        'synthetic_samples': len(y_train_smote) - len(y_train)\n",
    "    },\n",
    "    'feature_names': feature_names\n",
    "}\n",
    "\n",
    "# Save results\n",
    "save_experiment_results(results, 'smote_comparison_results.pkl')"
   ]
  },
  {
   "cell_type": "markdown",
   "id": "7e7f76b8",
   "metadata": {},
   "source": [
    "## 14. Conclusions & Recommendations\n",
    "\n",
    "Based on the comparison results:"
   ]
  },
  {
   "cell_type": "code",
   "execution_count": 16,
   "id": "7dfdac22",
   "metadata": {
    "lines_to_next_cell": 2
   },
   "outputs": [
    {
     "name": "stdout",
     "output_type": "stream",
     "text": [
      "\n",
      "================================================================================\n",
      "CONCLUSIONS & RECOMMENDATIONS\n",
      "================================================================================\n",
      "\n",
      "📊 Performance Changes:\n",
      "  Recall change:   +0.0784 (+7.84%)\n",
      "  Precision change: -0.1183 (-11.83%)\n",
      "  F1-Score change:  -0.0195 (-1.95%)\n",
      "\n",
      "================================================================================\n",
      "RECOMMENDATION:\n",
      "================================================================================\n",
      "\n",
      "✓ SMOTE significantly improves recall.\n",
      "  Improvement: +7.84% recall\n",
      "\n",
      "  Consider adopting SMOTE if:\n",
      "    - Recall improvement >3% justifies added complexity\n",
      "    - False alarm increase is acceptable for business\n",
      "    - Higher computational cost is manageable\n",
      "\n",
      "================================================================================\n",
      "END OF SMOTE EXPERIMENT\n",
      "================================================================================\n"
     ]
    }
   ],
   "source": [
    "print(\"\\n\" + \"=\"*80)\n",
    "print(\"CONCLUSIONS & RECOMMENDATIONS\")\n",
    "print(\"=\"*80)\n",
    "\n",
    "# Calculate improvements\n",
    "recall_improvement = rf_smote_recall - rf_cw_recall\n",
    "precision_change = rf_smote_precision - rf_cw_precision\n",
    "f1_change = rf_smote_f1 - rf_cw_f1\n",
    "\n",
    "print(f\"\\n📊 Performance Changes:\")\n",
    "print(f\"  Recall change:   {recall_improvement:+.4f} ({recall_improvement*100:+.2f}%)\")\n",
    "print(f\"  Precision change: {precision_change:+.4f} ({precision_change*100:+.2f}%)\")\n",
    "print(f\"  F1-Score change:  {f1_change:+.4f} ({f1_change*100:+.2f}%)\")\n",
    "\n",
    "print(f\"\\n{'='*80}\")\n",
    "print(\"RECOMMENDATION:\")\n",
    "print(f\"{'='*80}\")\n",
    "\n",
    "if recall_improvement > 0.03:  # More than 3% improvement\n",
    "    print(\"\\n✓ SMOTE significantly improves recall.\")\n",
    "    print(f\"  Improvement: +{recall_improvement*100:.2f}% recall\")\n",
    "    print(\"\\n  Consider adopting SMOTE if:\")\n",
    "    print(\"    - Recall improvement >3% justifies added complexity\")\n",
    "    print(\"    - False alarm increase is acceptable for business\")\n",
    "    print(\"    - Higher computational cost is manageable\")\n",
    "elif recall_improvement > 0 and recall_improvement <= 0.03:\n",
    "    print(\"\\n⚠ SMOTE slightly improves recall but adds complexity.\")\n",
    "    print(f\"  Improvement: +{recall_improvement*100:.2f}% recall\")\n",
    "    print(\"\\n  Recommendation: Stick with class_weight\")\n",
    "    print(\"    - Marginal benefit doesn't justify added complexity\")\n",
    "    print(\"    - class_weight is simpler and more interpretable\")\n",
    "    print(\"    - SMOTE creates synthetic samples (less transparent)\")\n",
    "else:\n",
    "    print(\"\\n✗ SMOTE hurts performance.\")\n",
    "    print(f\"  Recall change: {recall_improvement*100:.2f}%\")\n",
    "    print(\"\\n  Recommendation: Continue using class_weight\")\n",
    "    print(\"    - class_weight performs better\")\n",
    "    print(\"    - Simpler and more transparent\")\n",
    "    print(\"    - SMOTE may introduce unrealistic synthetic patterns\")\n",
    "\n",
    "print(f\"\\n{'='*80}\")\n",
    "print(\"END OF SMOTE EXPERIMENT\")\n",
    "print(f\"{'='*80}\")"
   ]
  }
 ],
 "metadata": {
  "jupytext": {
   "cell_metadata_filter": "-all",
   "main_language": "python",
   "notebook_metadata_filter": "-all"
  },
  "kernelspec": {
   "display_name": "venv",
   "language": "python",
   "name": "python3"
  },
  "language_info": {
   "codemirror_mode": {
    "name": "ipython",
    "version": 3
   },
   "file_extension": ".py",
   "mimetype": "text/x-python",
   "name": "python",
   "nbconvert_exporter": "python",
   "pygments_lexer": "ipython3",
   "version": "3.11.9"
  }
 },
 "nbformat": 4,
 "nbformat_minor": 5
}
