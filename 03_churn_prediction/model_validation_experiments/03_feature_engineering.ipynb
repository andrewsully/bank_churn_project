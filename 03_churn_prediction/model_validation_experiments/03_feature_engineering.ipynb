{
 "cells": [
  {
   "cell_type": "markdown",
   "id": "e5a25608",
   "metadata": {},
   "source": [
    "# Advanced Modeling: Feature Engineering Experiment\n",
    "## Testing Engineered Features for Performance Improvement\n",
    "\n",
    "This notebook tests whether engineered features can improve model performance \n",
    "beyond our current feature set.\n",
    "\n",
    "**Objective:** Determine if feature engineering (interactions, polynomials, \n",
    "binning) can improve F1-Score beyond our baseline 62.52%.\n",
    "\n",
    "**Features to Engineer:**\n",
    "1. **Interaction Terms:** Age × Balance, Geography × Products, Age × Activity\n",
    "2. **Polynomial Features:** Age², Balance²\n",
    "3. **Binning:** CreditScore bins, Balance bins, Age lifecycle groups\n",
    "4. **Ratios:** Balance/EstimatedSalary (if we had it), Engagement velocity\n",
    "\n",
    "**Key Question:** Do engineered features capture synergies that improve \n",
    "predictions, or do they just add noise?"
   ]
  },
  {
   "cell_type": "markdown",
   "id": "dfa0b082",
   "metadata": {},
   "source": [
    "## 1. Import Libraries"
   ]
  },
  {
   "cell_type": "code",
   "execution_count": 1,
   "id": "65eca15f",
   "metadata": {},
   "outputs": [
    {
     "name": "stdout",
     "output_type": "stream",
     "text": [
      "✓ Libraries loaded successfully\n"
     ]
    }
   ],
   "source": [
    "import numpy as np\n",
    "import pandas as pd\n",
    "import matplotlib.pyplot as plt\n",
    "import seaborn as sns\n",
    "import warnings\n",
    "import pickle\n",
    "from pathlib import Path\n",
    "\n",
    "# Sklearn models and utilities\n",
    "from sklearn.ensemble import RandomForestClassifier\n",
    "from sklearn.metrics import (\n",
    "    accuracy_score, precision_score, recall_score, f1_score, \n",
    "    roc_auc_score, roc_curve, auc, confusion_matrix, classification_report\n",
    ")\n",
    "\n",
    "# Custom utilities\n",
    "from advanced_modeling_utils import (\n",
    "    load_preprocessed_data,\n",
    "    compare_models_results,\n",
    "    save_experiment_results\n",
    ")\n",
    "\n",
    "# Settings\n",
    "sns.set_style('darkgrid')\n",
    "pd.set_option('display.max_columns', None)\n",
    "warnings.filterwarnings('ignore')\n",
    "\n",
    "print(\"✓ Libraries loaded successfully\")"
   ]
  },
  {
   "cell_type": "markdown",
   "id": "242338ea",
   "metadata": {},
   "source": [
    "## 2. Load Preprocessed Data\n",
    "\n",
    "Load data and create copies for feature engineering experiments."
   ]
  },
  {
   "cell_type": "code",
   "execution_count": 2,
   "id": "d0d7696b",
   "metadata": {},
   "outputs": [
    {
     "name": "stdout",
     "output_type": "stream",
     "text": [
      "✓ Baseline data loaded\n",
      "  Train shape: (8000, 13)\n",
      "  Test shape: (2000, 13)\n",
      "  Baseline features: 13\n"
     ]
    }
   ],
   "source": [
    "# Load baseline data\n",
    "X_train_base, X_test_base, y_train, y_test, feature_names = load_preprocessed_data()\n",
    "\n",
    "print(f\"✓ Baseline data loaded\")\n",
    "print(f\"  Train shape: {X_train_base.shape}\")\n",
    "print(f\"  Test shape: {X_test_base.shape}\")\n",
    "print(f\"  Baseline features: {len(feature_names)}\")\n",
    "\n",
    "# Create copies for engineering\n",
    "X_train = X_train_base.copy()\n",
    "X_test = X_test_base.copy()"
   ]
  },
  {
   "cell_type": "markdown",
   "id": "1d284270",
   "metadata": {},
   "source": [
    "## 3. Baseline Model (No Feature Engineering)\n",
    "\n",
    "Train Random Forest on original features to establish baseline."
   ]
  },
  {
   "cell_type": "code",
   "execution_count": 3,
   "id": "efb9e55d",
   "metadata": {},
   "outputs": [
    {
     "name": "stdout",
     "output_type": "stream",
     "text": [
      "================================================================================\n",
      "BASELINE: NO FEATURE ENGINEERING\n",
      "================================================================================\n",
      "\n",
      "🔨 Training baseline model...\n",
      "✓ Training complete\n",
      "\n",
      "📊 Baseline Performance:\n",
      "  Accuracy:  0.8585 (85.85%)\n",
      "  Precision: 0.6801 (68.01%)\n",
      "  Recall:    0.5784 (57.84%)\n",
      "  F1-Score:  0.6252 (62.52%)\n",
      "  ROC-AUC:   0.8585 (85.85%)\n"
     ]
    }
   ],
   "source": [
    "print(\"=\"*80)\n",
    "print(\"BASELINE: NO FEATURE ENGINEERING\")\n",
    "print(\"=\"*80)\n",
    "\n",
    "rf_baseline = RandomForestClassifier(\n",
    "    n_estimators=900,\n",
    "    max_depth=11,\n",
    "    criterion='gini',\n",
    "    max_features=None,\n",
    "    min_samples_split=4,\n",
    "    min_samples_leaf=1,\n",
    "    class_weight={0:1, 1:2},\n",
    "    random_state=42,\n",
    "    n_jobs=-1\n",
    ")\n",
    "\n",
    "print(\"\\n🔨 Training baseline model...\")\n",
    "rf_baseline.fit(X_train, y_train)\n",
    "print(\"✓ Training complete\")\n",
    "\n",
    "# Evaluate\n",
    "baseline_pred = rf_baseline.predict(X_test)\n",
    "baseline_proba = rf_baseline.predict_proba(X_test)[:, 1]\n",
    "\n",
    "baseline_accuracy = accuracy_score(y_test, baseline_pred)\n",
    "baseline_precision = precision_score(y_test, baseline_pred)\n",
    "baseline_recall = recall_score(y_test, baseline_pred)\n",
    "baseline_f1 = f1_score(y_test, baseline_pred)\n",
    "baseline_roc = roc_auc_score(y_test, baseline_proba)\n",
    "\n",
    "print(f\"\\n📊 Baseline Performance:\")\n",
    "print(f\"  Accuracy:  {baseline_accuracy:.4f} ({baseline_accuracy*100:.2f}%)\")\n",
    "print(f\"  Precision: {baseline_precision:.4f} ({baseline_precision*100:.2f}%)\")\n",
    "print(f\"  Recall:    {baseline_recall:.4f} ({baseline_recall*100:.2f}%)\")\n",
    "print(f\"  F1-Score:  {baseline_f1:.4f} ({baseline_f1*100:.2f}%)\")\n",
    "print(f\"  ROC-AUC:   {baseline_roc:.4f} ({baseline_roc*100:.2f}%)\")"
   ]
  },
  {
   "cell_type": "markdown",
   "id": "09aa4ced",
   "metadata": {},
   "source": [
    "## 4. Feature Engineering\n",
    "\n",
    "Create engineered features based on domain knowledge and EDA insights."
   ]
  },
  {
   "cell_type": "markdown",
   "id": "991a6138",
   "metadata": {},
   "source": [
    "### 4.1 Interaction Terms\n",
    "\n",
    "Create interactions between features that showed relationships in EDA."
   ]
  },
  {
   "cell_type": "code",
   "execution_count": 4,
   "id": "eeb3c276",
   "metadata": {},
   "outputs": [
    {
     "name": "stdout",
     "output_type": "stream",
     "text": [
      "\n",
      "================================================================================\n",
      "CREATING INTERACTION TERMS\n",
      "================================================================================\n",
      "✓ Created: age_x_balance\n",
      "✓ Created: age_x_active\n",
      "✓ Created: products_x_geography interaction terms\n",
      "✓ Created: tenure_x_active\n",
      "\n",
      "Total features after interactions: 18\n"
     ]
    }
   ],
   "source": [
    "print(\"\\n\" + \"=\"*80)\n",
    "print(\"CREATING INTERACTION TERMS\")\n",
    "print(\"=\"*80)\n",
    "\n",
    "# Age × Balance (high-balance older customers = retirement planning)\n",
    "X_train['age_x_balance'] = X_train['age'] * X_train['balance']\n",
    "X_test['age_x_balance'] = X_test['age'] * X_test['balance']\n",
    "print(\"✓ Created: age_x_balance\")\n",
    "\n",
    "# Age × IsActiveMember (age-driven engagement patterns)\n",
    "X_train['age_x_active'] = X_train['age'] * X_train['isactivemember']\n",
    "X_test['age_x_active'] = X_test['age'] * X_test['isactivemember']\n",
    "print(\"✓ Created: age_x_active\")\n",
    "\n",
    "# NumOfProducts × Geography (Germany + 3+ products = catastrophic)\n",
    "# Check if geography columns exist\n",
    "geography_cols = [col for col in X_train.columns if 'geography' in col.lower()]\n",
    "if len(geography_cols) > 0:\n",
    "    for geo_col in geography_cols:\n",
    "        X_train[f'products_x_{geo_col}'] = X_train['numofproducts'] * X_train[geo_col]\n",
    "        X_test[f'products_x_{geo_col}'] = X_test['numofproducts'] * X_test[geo_col]\n",
    "    print(f\"✓ Created: products_x_geography interaction terms\")\n",
    "\n",
    "# Tenure × IsActiveMember (engagement duration)\n",
    "X_train['tenure_x_active'] = X_train['tenure'] * X_train['isactivemember']\n",
    "X_test['tenure_x_active'] = X_test['tenure'] * X_test['isactivemember']\n",
    "print(\"✓ Created: tenure_x_active\")\n",
    "\n",
    "print(f\"\\nTotal features after interactions: {X_train.shape[1]}\")"
   ]
  },
  {
   "cell_type": "markdown",
   "id": "0376218d",
   "metadata": {},
   "source": [
    "### 4.2 Polynomial Features\n",
    "\n",
    "Create polynomial terms to capture non-linear relationships."
   ]
  },
  {
   "cell_type": "code",
   "execution_count": 5,
   "id": "47345ccf",
   "metadata": {},
   "outputs": [
    {
     "name": "stdout",
     "output_type": "stream",
     "text": [
      "\n",
      "================================================================================\n",
      "CREATING POLYNOMIAL FEATURES\n",
      "================================================================================\n",
      "✓ Created: age_squared\n",
      "✓ Created: balance_squared\n",
      "✓ Created: products_squared\n",
      "\n",
      "Total features after polynomials: 21\n"
     ]
    }
   ],
   "source": [
    "print(\"\\n\" + \"=\"*80)\n",
    "print(\"CREATING POLYNOMIAL FEATURES\")\n",
    "print(\"=\"*80)\n",
    "\n",
    "# Age² (capture lifecycle non-linearity more explicitly)\n",
    "X_train['age_squared'] = X_train['age'] ** 2\n",
    "X_test['age_squared'] = X_test['age'] ** 2\n",
    "print(\"✓ Created: age_squared\")\n",
    "\n",
    "# Balance² (high-balance effect on retention)\n",
    "X_train['balance_squared'] = X_train['balance'] ** 2\n",
    "X_test['balance_squared'] = X_test['balance'] ** 2\n",
    "print(\"✓ Created: balance_squared\")\n",
    "\n",
    "# NumOfProducts² (capture the U-shape effect)\n",
    "X_train['products_squared'] = X_train['numofproducts'] ** 2\n",
    "X_test['products_squared'] = X_test['numofproducts'] ** 2\n",
    "print(\"✓ Created: products_squared\")\n",
    "\n",
    "print(f\"\\nTotal features after polynomials: {X_train.shape[1]}\")"
   ]
  },
  {
   "cell_type": "markdown",
   "id": "d107e1cc",
   "metadata": {},
   "source": [
    "### 4.3 Binning Features\n",
    "\n",
    "Create binned versions of continuous features."
   ]
  },
  {
   "cell_type": "code",
   "execution_count": 6,
   "id": "ba2191cf",
   "metadata": {},
   "outputs": [
    {
     "name": "stdout",
     "output_type": "stream",
     "text": [
      "\n",
      "================================================================================\n",
      "CREATING BINNED FEATURES\n",
      "================================================================================\n",
      "✓ Created: age_lifecycle bins\n",
      "✓ Created: balance_category bins\n",
      "\n",
      "Total features after binning: 27\n"
     ]
    }
   ],
   "source": [
    "print(\"\\n\" + \"=\"*80)\n",
    "print(\"CREATING BINNED FEATURES\")\n",
    "print(\"=\"*80)\n",
    "\n",
    "# Age lifecycle bins (already have age_group, but creating more granular bins)\n",
    "X_train['age_lifecycle'] = pd.cut(X_train['age'], \n",
    "                                   bins=[0, 35, 50, 65, 100],\n",
    "                                   labels=['Young', 'Mid-Career', 'Pre-Retirement', 'Retirement'])\n",
    "X_test['age_lifecycle'] = pd.cut(X_test['age'],\n",
    "                                  bins=[0, 35, 50, 65, 100],\n",
    "                                  labels=['Young', 'Mid-Career', 'Pre-Retirement', 'Retirement'])\n",
    "\n",
    "# One-hot encode age_lifecycle\n",
    "X_train = pd.get_dummies(X_train, columns=['age_lifecycle'], drop_first=True, dtype=int)\n",
    "X_test = pd.get_dummies(X_test, columns=['age_lifecycle'], drop_first=True, dtype=int)\n",
    "print(\"✓ Created: age_lifecycle bins\")\n",
    "\n",
    "# Balance bins (zero, low, medium, high)\n",
    "# Note: Need to reload original balance since we created balance_squared\n",
    "balance_train = X_train_base['balance'].copy()\n",
    "balance_test = X_test_base['balance'].copy()\n",
    "\n",
    "X_train['balance_category'] = pd.cut(balance_train,\n",
    "                                     bins=[-np.inf, 0, 50000, 150000, np.inf],\n",
    "                                     labels=['Zero', 'Low', 'Medium', 'High'])\n",
    "X_test['balance_category'] = pd.cut(balance_test,\n",
    "                                    bins=[-np.inf, 0, 50000, 150000, np.inf],\n",
    "                                    labels=['Zero', 'Low', 'Medium', 'High'])\n",
    "\n",
    "# One-hot encode balance_category\n",
    "X_train = pd.get_dummies(X_train, columns=['balance_category'], drop_first=True, dtype=int)\n",
    "X_test = pd.get_dummies(X_test, columns=['balance_category'], drop_first=True, dtype=int)\n",
    "print(\"✓ Created: balance_category bins\")\n",
    "\n",
    "print(f\"\\nTotal features after binning: {X_train.shape[1]}\")"
   ]
  },
  {
   "cell_type": "markdown",
   "id": "2d24da49",
   "metadata": {},
   "source": [
    "### 4.4 Summary of Engineered Features\n",
    "\n",
    "Review all engineered features created."
   ]
  },
  {
   "cell_type": "code",
   "execution_count": 7,
   "id": "9d57fa18",
   "metadata": {},
   "outputs": [
    {
     "name": "stdout",
     "output_type": "stream",
     "text": [
      "\n",
      "================================================================================\n",
      "FEATURE ENGINEERING SUMMARY\n",
      "================================================================================\n",
      "\n",
      "Baseline features: 13\n",
      "Engineered features: 27\n",
      "New features added: 14\n",
      "\n",
      "Engineered feature names:\n",
      "  1. age_x_balance\n",
      "  2. age_x_active\n",
      "  3. products_x_geography_Germany\n",
      "  4. products_x_geography_Spain\n",
      "  5. tenure_x_active\n",
      "  6. age_squared\n",
      "  7. balance_squared\n",
      "  8. products_squared\n",
      "  9. age_lifecycle_Mid-Career\n",
      "  10. age_lifecycle_Pre-Retirement\n",
      "  11. age_lifecycle_Retirement\n",
      "  12. balance_category_Low\n",
      "  13. balance_category_Medium\n",
      "  14. balance_category_High\n"
     ]
    }
   ],
   "source": [
    "print(\"\\n\" + \"=\"*80)\n",
    "print(\"FEATURE ENGINEERING SUMMARY\")\n",
    "print(\"=\"*80)\n",
    "\n",
    "baseline_feature_count = X_train_base.shape[1]\n",
    "engineered_feature_count = X_train.shape[1]\n",
    "new_features = engineered_feature_count - baseline_feature_count\n",
    "\n",
    "print(f\"\\nBaseline features: {baseline_feature_count}\")\n",
    "print(f\"Engineered features: {engineered_feature_count}\")\n",
    "print(f\"New features added: {new_features}\")\n",
    "print(f\"\\nEngineered feature names:\")\n",
    "new_cols = [col for col in X_train.columns if col not in X_train_base.columns]\n",
    "for i, col in enumerate(new_cols, 1):\n",
    "    print(f\"  {i}. {col}\")"
   ]
  },
  {
   "cell_type": "markdown",
   "id": "2b404463",
   "metadata": {},
   "source": [
    "## 5. Train Model with Engineered Features\n",
    "\n",
    "Train Random Forest on expanded feature set."
   ]
  },
  {
   "cell_type": "code",
   "execution_count": 8,
   "id": "906a51af",
   "metadata": {},
   "outputs": [
    {
     "name": "stdout",
     "output_type": "stream",
     "text": [
      "\n",
      "================================================================================\n",
      "TRAINING MODEL WITH ENGINEERED FEATURES\n",
      "================================================================================\n",
      "\n",
      "🔨 Training model with engineered features...\n",
      "✓ Training complete\n",
      "\n",
      "📊 Engineered Features Performance:\n",
      "  Accuracy:  0.8565 (85.65%)\n",
      "  Precision: 0.6734 (67.34%)\n",
      "  Recall:    0.5760 (57.60%)\n",
      "  F1-Score:  0.6209 (62.09%)\n",
      "  ROC-AUC:   0.8616 (86.16%)\n"
     ]
    }
   ],
   "source": [
    "print(\"\\n\" + \"=\"*80)\n",
    "print(\"TRAINING MODEL WITH ENGINEERED FEATURES\")\n",
    "print(\"=\"*80)\n",
    "\n",
    "rf_engineered = RandomForestClassifier(\n",
    "    n_estimators=900,\n",
    "    max_depth=11,\n",
    "    criterion='gini',\n",
    "    max_features=None,\n",
    "    min_samples_split=4,\n",
    "    min_samples_leaf=1,\n",
    "    class_weight={0:1, 1:2},\n",
    "    random_state=42,\n",
    "    n_jobs=-1\n",
    ")\n",
    "\n",
    "print(\"\\n🔨 Training model with engineered features...\")\n",
    "rf_engineered.fit(X_train, y_train)\n",
    "print(\"✓ Training complete\")\n",
    "\n",
    "# Evaluate\n",
    "engineered_pred = rf_engineered.predict(X_test)\n",
    "engineered_proba = rf_engineered.predict_proba(X_test)[:, 1]\n",
    "\n",
    "engineered_accuracy = accuracy_score(y_test, engineered_pred)\n",
    "engineered_precision = precision_score(y_test, engineered_pred)\n",
    "engineered_recall = recall_score(y_test, engineered_pred)\n",
    "engineered_f1 = f1_score(y_test, engineered_pred)\n",
    "engineered_roc = roc_auc_score(y_test, engineered_proba)\n",
    "\n",
    "print(f\"\\n📊 Engineered Features Performance:\")\n",
    "print(f\"  Accuracy:  {engineered_accuracy:.4f} ({engineered_accuracy*100:.2f}%)\")\n",
    "print(f\"  Precision: {engineered_precision:.4f} ({engineered_precision*100:.2f}%)\")\n",
    "print(f\"  Recall:    {engineered_recall:.4f} ({engineered_recall*100:.2f}%)\")\n",
    "print(f\"  F1-Score:  {engineered_f1:.4f} ({engineered_f1*100:.2f}%)\")\n",
    "print(f\"  ROC-AUC:   {engineered_roc:.4f} ({engineered_roc*100:.2f}%)\")"
   ]
  },
  {
   "cell_type": "markdown",
   "id": "c7c6be42",
   "metadata": {},
   "source": [
    "## 6. Performance Comparison\n",
    "\n",
    "Compare baseline vs engineered features."
   ]
  },
  {
   "cell_type": "code",
   "execution_count": 9,
   "id": "924adf25",
   "metadata": {},
   "outputs": [
    {
     "name": "stdout",
     "output_type": "stream",
     "text": [
      "\n",
      "================================================================================\n",
      "BASELINE vs ENGINEERED FEATURES COMPARISON\n",
      "================================================================================\n",
      "\n",
      "\n",
      "              Model  Accuracy  Precision   Recall  F1-Score  ROC-AUC\n",
      "           Baseline    0.8585   0.680115 0.578431  0.625166 0.858506\n",
      "Engineered Features    0.8565   0.673352 0.575980  0.620872 0.861647\n"
     ]
    }
   ],
   "source": [
    "print(\"\\n\" + \"=\"*80)\n",
    "print(\"BASELINE vs ENGINEERED FEATURES COMPARISON\")\n",
    "print(\"=\"*80)\n",
    "\n",
    "comparison_results = {\n",
    "    'Baseline': (baseline_pred, baseline_proba),\n",
    "    'Engineered Features': (engineered_pred, engineered_proba)\n",
    "}\n",
    "\n",
    "comparison_df = compare_models_results(comparison_results, y_test)\n",
    "print(\"\\n\")\n",
    "print(comparison_df.to_string(index=False))"
   ]
  },
  {
   "cell_type": "markdown",
   "id": "8e60b60d",
   "metadata": {},
   "source": [
    "## 7. Feature Importance Analysis\n",
    "\n",
    "Identify which engineered features contribute most."
   ]
  },
  {
   "cell_type": "code",
   "execution_count": 10,
   "id": "d27d10eb",
   "metadata": {},
   "outputs": [
    {
     "name": "stdout",
     "output_type": "stream",
     "text": [
      "\n",
      "================================================================================\n",
      "TOP 15 MOST IMPORTANT FEATURES\n",
      "================================================================================\n",
      "                     Feature  Importance\n",
      "                         age    0.151840\n",
      "                 age_squared    0.146510\n",
      "               age_x_balance    0.113014\n",
      "               numofproducts    0.090447\n",
      "            products_squared    0.086908\n",
      "                     balance    0.068380\n",
      "             balance_squared    0.066982\n",
      "                      tenure    0.057514\n",
      "                age_x_active    0.055338\n",
      "             tenure_x_active    0.030135\n",
      "              isactivemember    0.028296\n",
      "                      gender    0.023581\n",
      "products_x_geography_Germany    0.019276\n",
      "           geography_Germany    0.018746\n",
      "age_lifecycle_Pre-Retirement    0.008454\n",
      "\n",
      "================================================================================\n",
      "ENGINEERED FEATURES IMPORTANCE\n",
      "================================================================================\n",
      "                     Feature  Importance\n",
      "                 age_squared    0.146510\n",
      "               age_x_balance    0.113014\n",
      "            products_squared    0.086908\n",
      "             balance_squared    0.066982\n",
      "                age_x_active    0.055338\n",
      "             tenure_x_active    0.030135\n",
      "products_x_geography_Germany    0.019276\n",
      "age_lifecycle_Pre-Retirement    0.008454\n",
      "  products_x_geography_Spain    0.007958\n",
      "     balance_category_Medium    0.007491\n",
      "    age_lifecycle_Mid-Career    0.001845\n",
      "        balance_category_Low    0.001831\n",
      "    age_lifecycle_Retirement    0.000579\n",
      "       balance_category_High    0.000540\n"
     ]
    }
   ],
   "source": [
    "# Get feature importance\n",
    "feature_importance = pd.DataFrame({\n",
    "    'Feature': X_train.columns,\n",
    "    'Importance': rf_engineered.feature_importances_\n",
    "}).sort_values('Importance', ascending=False)\n",
    "\n",
    "print(\"\\n\" + \"=\"*80)\n",
    "print(\"TOP 15 MOST IMPORTANT FEATURES\")\n",
    "print(\"=\"*80)\n",
    "print(feature_importance.head(15).to_string(index=False))\n",
    "\n",
    "# Highlight engineered features\n",
    "print(\"\\n\" + \"=\"*80)\n",
    "print(\"ENGINEERED FEATURES IMPORTANCE\")\n",
    "print(\"=\"*80)\n",
    "engineered_features = [col for col in X_train.columns if col not in X_train_base.columns]\n",
    "engineered_importance = feature_importance[feature_importance['Feature'].isin(engineered_features)]\n",
    "if len(engineered_importance) > 0:\n",
    "    print(engineered_importance.to_string(index=False))\n",
    "else:\n",
    "    print(\"No engineered features in top features\")"
   ]
  },
  {
   "cell_type": "markdown",
   "id": "78e1adf2",
   "metadata": {},
   "source": [
    "## 8. Visualizations\n",
    "\n",
    "Create visual comparisons."
   ]
  },
  {
   "cell_type": "markdown",
   "id": "7e63f95a",
   "metadata": {},
   "source": [
    "### 8.1 Confusion Matrix Comparison"
   ]
  },
  {
   "cell_type": "code",
   "execution_count": 11,
   "id": "c8535e73",
   "metadata": {},
   "outputs": [
    {
     "data": {
      "image/png": "[encoded data removed]",
      "text/plain": [
       "<Figure size 1500x500 with 4 Axes>"
      ]
     },
     "metadata": {},
     "output_type": "display_data"
    }
   ],
   "source": [
    "# Side-by-side confusion matrices\n",
    "fig, axes = plt.subplots(1, 2, figsize=(15, 5))\n",
    "\n",
    "for idx, (name, pred) in enumerate([('Baseline', baseline_pred), ('Engineered', engineered_pred)]):\n",
    "    cm = confusion_matrix(y_test, pred)\n",
    "    sns.heatmap(cm, annot=True, fmt='d', cmap='Blues', ax=axes[idx],\n",
    "               xticklabels=['Not Churn', 'Churn'],\n",
    "               yticklabels=['Not Churn', 'Churn'])\n",
    "    axes[idx].set_title(f'{name}')\n",
    "    axes[idx].set_xlabel('Predicted')\n",
    "    axes[idx].set_ylabel('Actual')\n",
    "\n",
    "plt.tight_layout()\n",
    "plt.show()"
   ]
  },
  {
   "cell_type": "markdown",
   "id": "74af70e2",
   "metadata": {},
   "source": [
    "### 8.2 ROC Curve Comparison"
   ]
  },
  {
   "cell_type": "code",
   "execution_count": 12,
   "id": "0ed1bae3",
   "metadata": {},
   "outputs": [
    {
     "data": {
      "image/png": "[encoded data removed]",
      "text/plain": [
       "<Figure size 800x600 with 1 Axes>"
      ]
     },
     "metadata": {},
     "output_type": "display_data"
    }
   ],
   "source": [
    "fig, ax = plt.subplots(figsize=(8, 6))\n",
    "\n",
    "for name, proba in [('Baseline', baseline_proba), ('Engineered Features', engineered_proba)]:\n",
    "    fpr, tpr, _ = roc_curve(y_test, proba)\n",
    "    roc_auc = auc(fpr, tpr)\n",
    "    ax.plot(fpr, tpr, label=f'{name} (AUC = {roc_auc:.3f})', linewidth=2)\n",
    "\n",
    "ax.plot([0, 1], [0, 1], 'k--', label='Random Classifier')\n",
    "ax.set_xlabel('False Positive Rate')\n",
    "ax.set_ylabel('True Positive Rate')\n",
    "ax.set_title('ROC Curves: Baseline vs Engineered Features')\n",
    "ax.legend(loc='lower right')\n",
    "ax.grid(alpha=0.3)\n",
    "plt.tight_layout()\n",
    "plt.show()"
   ]
  },
  {
   "cell_type": "markdown",
   "id": "e0be77b1",
   "metadata": {},
   "source": [
    "### 8.3 Metrics Bar Chart"
   ]
  },
  {
   "cell_type": "code",
   "execution_count": 13,
   "id": "8c7acd6f",
   "metadata": {},
   "outputs": [
    {
     "data": {
      "image/png": "[encoded data removed]",
      "text/plain": [
       "<Figure size 1800x1000 with 6 Axes>"
      ]
     },
     "metadata": {},
     "output_type": "display_data"
    }
   ],
   "source": [
    "# Create bar chart comparing metrics\n",
    "fig, axes = plt.subplots(2, 3, figsize=(18, 10))\n",
    "\n",
    "metrics_data = pd.DataFrame({\n",
    "    'Approach': ['Baseline', 'Engineered'],\n",
    "    'Accuracy': [baseline_accuracy, engineered_accuracy],\n",
    "    'Precision': [baseline_precision, engineered_precision],\n",
    "    'Recall': [baseline_recall, engineered_recall],\n",
    "    'F1-Score': [baseline_f1, engineered_f1],\n",
    "    'ROC-AUC': [baseline_roc, engineered_roc]\n",
    "})\n",
    "\n",
    "metric_cols = ['Accuracy', 'Precision', 'Recall', 'F1-Score', 'ROC-AUC']\n",
    "colors = ['steelblue', 'seagreen']\n",
    "\n",
    "for idx, metric in enumerate(metric_cols):\n",
    "    ax = axes[idx // 3, idx % 3]\n",
    "    bars = ax.bar(metrics_data['Approach'], metrics_data[metric], color=colors)\n",
    "    ax.set_title(f'{metric} Comparison', fontsize=14, fontweight='bold')\n",
    "    ax.set_ylabel(metric)\n",
    "    ax.set_ylim([0, 1])\n",
    "    \n",
    "    # Add value labels on bars\n",
    "    for bar in bars:\n",
    "        height = bar.get_height()\n",
    "        ax.text(bar.get_x() + bar.get_width()/2., height,\n",
    "                f'{height:.3f}',\n",
    "                ha='center', va='bottom', fontsize=10)\n",
    "\n",
    "plt.tight_layout()\n",
    "plt.show()"
   ]
  },
  {
   "cell_type": "markdown",
   "id": "ca212b5a",
   "metadata": {},
   "source": [
    "## 9. Detailed Metrics Comparison"
   ]
  },
  {
   "cell_type": "code",
   "execution_count": 14,
   "id": "68effd86",
   "metadata": {},
   "outputs": [
    {
     "name": "stdout",
     "output_type": "stream",
     "text": [
      "\n",
      "================================================================================\n",
      "DETAILED METRICS COMPARISON\n",
      "================================================================================\n",
      "\n",
      "\n",
      "           Approach  Accuracy  Precision    Recall  F1-Score  ROC-AUC\n",
      "           Baseline    0.8585   0.680115  0.578431  0.625166 0.858506\n",
      "Engineered Features    0.8565   0.673352  0.575980  0.620872 0.861647\n",
      "         Difference   -0.0020  -0.006763 -0.002451 -0.004294 0.003141\n"
     ]
    }
   ],
   "source": [
    "print(\"\\n\" + \"=\"*80)\n",
    "print(\"DETAILED METRICS COMPARISON\")\n",
    "print(\"=\"*80)\n",
    "\n",
    "metrics_comparison = pd.DataFrame({\n",
    "    'Approach': ['Baseline', 'Engineered Features', 'Difference'],\n",
    "    'Accuracy': [baseline_accuracy, engineered_accuracy, engineered_accuracy - baseline_accuracy],\n",
    "    'Precision': [baseline_precision, engineered_precision, engineered_precision - baseline_precision],\n",
    "    'Recall': [baseline_recall, engineered_recall, engineered_recall - baseline_recall],\n",
    "    'F1-Score': [baseline_f1, engineered_f1, engineered_f1 - baseline_f1],\n",
    "    'ROC-AUC': [baseline_roc, engineered_roc, engineered_roc - baseline_roc]\n",
    "})\n",
    "\n",
    "print(\"\\n\")\n",
    "print(metrics_comparison.to_string(index=False))"
   ]
  },
  {
   "cell_type": "markdown",
   "id": "0bef1d60",
   "metadata": {},
   "source": [
    "## 10. Save Results\n",
    "\n",
    "Save experiment results for future reference."
   ]
  },
  {
   "cell_type": "code",
   "execution_count": 15,
   "id": "99dd0ac8",
   "metadata": {},
   "outputs": [
    {
     "name": "stdout",
     "output_type": "stream",
     "text": [
      "✓ Results saved to results/feature_engineering_results.pkl\n"
     ]
    }
   ],
   "source": [
    "# Prepare results dictionary\n",
    "results = {\n",
    "    'models': {\n",
    "        'Baseline': rf_baseline,\n",
    "        'Engineered': rf_engineered\n",
    "    },\n",
    "    'predictions': {\n",
    "        'Baseline': baseline_pred,\n",
    "        'Engineered': engineered_pred\n",
    "    },\n",
    "    'probabilities': {\n",
    "        'Baseline': baseline_proba,\n",
    "        'Engineered': engineered_proba\n",
    "    },\n",
    "    'metrics': comparison_df.to_dict('records'),\n",
    "    'feature_importance': feature_importance.to_dict('records'),\n",
    "    'engineered_features': engineered_features,\n",
    "    'feature_count': {\n",
    "        'baseline': X_train_base.shape[1],\n",
    "        'engineered': X_train.shape[1],\n",
    "        'new_features': len(engineered_features)\n",
    "    }\n",
    "}\n",
    "\n",
    "# Save results\n",
    "save_experiment_results(results, 'feature_engineering_results.pkl')"
   ]
  },
  {
   "cell_type": "markdown",
   "id": "548c4fc8",
   "metadata": {},
   "source": [
    "## 11. Conclusions & Recommendations\n",
    "\n",
    "Based on the comparison results:"
   ]
  },
  {
   "cell_type": "code",
   "execution_count": 16,
   "id": "96ba336c",
   "metadata": {
    "lines_to_next_cell": 2
   },
   "outputs": [
    {
     "name": "stdout",
     "output_type": "stream",
     "text": [
      "\n",
      "================================================================================\n",
      "CONCLUSIONS & RECOMMENDATIONS\n",
      "================================================================================\n",
      "\n",
      "📊 Performance Changes:\n",
      "  Accuracy change:  -0.0020 (-0.20%)\n",
      "  Precision change: -0.0068 (-0.68%)\n",
      "  Recall change:    -0.0025 (-0.25%)\n",
      "  F1-Score change:  -0.0043 (-0.43%)\n",
      "  ROC-AUC change:   +0.0031 (+0.31%)\n",
      "\n",
      "================================================================================\n",
      "RECOMMENDATION:\n",
      "================================================================================\n",
      "\n",
      "✗ Feature engineering does not improve performance.\n",
      "  F1-Score change: -0.43%\n",
      "\n",
      "  Recommendation: Stick with baseline features\n",
      "    - Baseline features are already optimized\n",
      "    - Additional features may introduce noise\n",
      "    - Random Forest captures non-linearities well\n",
      "    - Simpler model is easier to interpret and maintain\n",
      "\n",
      "================================================================================\n",
      "END OF FEATURE ENGINEERING EXPERIMENT\n",
      "================================================================================\n"
     ]
    }
   ],
   "source": [
    "print(\"\\n\" + \"=\"*80)\n",
    "print(\"CONCLUSIONS & RECOMMENDATIONS\")\n",
    "print(\"=\"*80)\n",
    "\n",
    "# Calculate improvements\n",
    "accuracy_change = engineered_accuracy - baseline_accuracy\n",
    "precision_change = engineered_precision - baseline_precision\n",
    "recall_change = engineered_recall - baseline_recall\n",
    "f1_change = engineered_f1 - baseline_f1\n",
    "roc_change = engineered_roc - baseline_roc\n",
    "\n",
    "print(f\"\\n📊 Performance Changes:\")\n",
    "print(f\"  Accuracy change:  {accuracy_change:+.4f} ({accuracy_change*100:+.2f}%)\")\n",
    "print(f\"  Precision change: {precision_change:+.4f} ({precision_change*100:+.2f}%)\")\n",
    "print(f\"  Recall change:    {recall_change:+.4f} ({recall_change*100:+.2f}%)\")\n",
    "print(f\"  F1-Score change:  {f1_change:+.4f} ({f1_change*100:+.2f}%)\")\n",
    "print(f\"  ROC-AUC change:   {roc_change:+.4f} ({roc_change*100:+.2f}%)\")\n",
    "\n",
    "print(f\"\\n{'='*80}\")\n",
    "print(\"RECOMMENDATION:\")\n",
    "print(f\"{'='*80}\")\n",
    "\n",
    "if f1_change > 0.01:  # More than 1% improvement\n",
    "    print(\"\\n✓ Feature engineering significantly improves performance.\")\n",
    "    print(f\"  Improvement: +{f1_change*100:.2f}% F1-Score\")\n",
    "    print(\"\\n  Consider adopting engineered features:\")\n",
    "    print(\"    - Performance gain justifies added complexity\")\n",
    "    print(\"    - Model can handle additional features\")\n",
    "    print(\"    - Top engineered features contribute meaningfully\")\n",
    "elif f1_change > 0 and f1_change <= 0.01:\n",
    "    print(\"\\n⚠ Feature engineering provides marginal improvement.\")\n",
    "    print(f\"  Improvement: +{f1_change*100:.2f}% F1-Score\")\n",
    "    print(\"\\n  Consider trade-offs:\")\n",
    "    print(\"    - Marginal benefit vs added complexity\")\n",
    "    print(\"    - Evaluate if specific engineered features are valuable\")\n",
    "    print(\"    - May be worth adopting only top contributing features\")\n",
    "else:\n",
    "    print(\"\\n✗ Feature engineering does not improve performance.\")\n",
    "    print(f\"  F1-Score change: {f1_change*100:.2f}%\")\n",
    "    print(\"\\n  Recommendation: Stick with baseline features\")\n",
    "    print(\"    - Baseline features are already optimized\")\n",
    "    print(\"    - Additional features may introduce noise\")\n",
    "    print(\"    - Random Forest captures non-linearities well\")\n",
    "    print(\"    - Simpler model is easier to interpret and maintain\")\n",
    "\n",
    "print(f\"\\n{'='*80}\")\n",
    "print(\"END OF FEATURE ENGINEERING EXPERIMENT\")\n",
    "print(f\"{'='*80}\")"
   ]
  }
 ],
 "metadata": {
  "jupytext": {
   "cell_metadata_filter": "-all",
   "main_language": "python",
   "notebook_metadata_filter": "-all"
  },
  "kernelspec": {
   "display_name": "venv",
   "language": "python",
   "name": "python3"
  },
  "language_info": {
   "codemirror_mode": {
    "name": "ipython",
    "version": 3
   },
   "file_extension": ".py",
   "mimetype": "text/x-python",
   "name": "python",
   "nbconvert_exporter": "python",
   "pygments_lexer": "ipython3",
   "version": "3.11.9"
  }
 },
 "nbformat": 4,
 "nbformat_minor": 5
}
